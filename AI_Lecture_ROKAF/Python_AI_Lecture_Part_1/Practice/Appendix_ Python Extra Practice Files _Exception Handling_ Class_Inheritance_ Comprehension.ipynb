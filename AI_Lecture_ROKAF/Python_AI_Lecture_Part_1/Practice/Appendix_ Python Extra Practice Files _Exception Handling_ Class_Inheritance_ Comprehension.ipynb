{
 "cells": [
  {
   "cell_type": "markdown",
   "metadata": {},
   "source": [
    "<br>\n",
    "<br>\n",
    "\n",
    "### 1. 예외 처리"
   ]
  },
  {
   "cell_type": "markdown",
   "metadata": {},
   "source": [
    "<br>\n",
    "\n",
    "#### 에러 이름을 특정하지 않고 모든 에러를 처리"
   ]
  },
  {
   "cell_type": "code",
   "execution_count": 1,
   "metadata": {},
   "outputs": [],
   "source": [
    "data = '100%'"
   ]
  },
  {
   "cell_type": "code",
   "execution_count": 2,
   "metadata": {},
   "outputs": [
    {
     "ename": "ValueError",
     "evalue": "invalid literal for int() with base 10: '100%'",
     "output_type": "error",
     "traceback": [
      "\u001b[1;31m---------------------------------------------------------------------------\u001b[0m",
      "\u001b[1;31mValueError\u001b[0m                                Traceback (most recent call last)",
      "\u001b[1;32m<ipython-input-2-c07095f4a360>\u001b[0m in \u001b[0;36m<module>\u001b[1;34m\u001b[0m\n\u001b[1;32m----> 1\u001b[1;33m \u001b[0mint\u001b[0m\u001b[1;33m(\u001b[0m\u001b[0mdata\u001b[0m\u001b[1;33m)\u001b[0m\u001b[1;33m\u001b[0m\u001b[1;33m\u001b[0m\u001b[0m\n\u001b[0m",
      "\u001b[1;31mValueError\u001b[0m: invalid literal for int() with base 10: '100%'"
     ]
    }
   ],
   "source": [
    "int(data)"
   ]
  },
  {
   "cell_type": "code",
   "execution_count": 3,
   "metadata": {},
   "outputs": [
    {
     "name": "stdout",
     "output_type": "stream",
     "text": [
      "An error occured\n"
     ]
    }
   ],
   "source": [
    "try:\n",
    "    str_to_int = int(data)\n",
    "except: \n",
    "    print('An error occured')"
   ]
  },
  {
   "cell_type": "markdown",
   "metadata": {},
   "source": [
    "<br>\n",
    "\n",
    "#### 에러 이름을 특정하여 해당 에러가 발생했을 때 대응"
   ]
  },
  {
   "cell_type": "code",
   "execution_count": 4,
   "metadata": {},
   "outputs": [
    {
     "name": "stdout",
     "output_type": "stream",
     "text": [
      "An error occured\n"
     ]
    }
   ],
   "source": [
    "try:\n",
    "    str_to_int = int(data)\n",
    "except ValueError: \n",
    "    print('An error occured')"
   ]
  },
  {
   "cell_type": "code",
   "execution_count": 3,
   "metadata": {},
   "outputs": [
    {
     "name": "stdout",
     "output_type": "stream",
     "text": [
      "An error occured\n"
     ]
    }
   ],
   "source": [
    "try:\n",
    "    str_to_int = 10/0\n",
    "except ZeroDivisionError: \n",
    "    print('An error occured')"
   ]
  },
  {
   "cell_type": "code",
   "execution_count": 8,
   "metadata": {},
   "outputs": [
    {
     "name": "stdout",
     "output_type": "stream",
     "text": [
      "An error occured\n"
     ]
    }
   ],
   "source": [
    "try:\n",
    "    print([1, 3, 5, 7, 9][10])\n",
    "except IndexError: \n",
    "    print('An error occured')"
   ]
  },
  {
   "cell_type": "markdown",
   "metadata": {},
   "source": [
    "<br>\n",
    "\n",
    "#### 에러 이름을 모를 때 어떤 에러가 발생했는지 에러명을 출력"
   ]
  },
  {
   "cell_type": "code",
   "execution_count": 16,
   "metadata": {},
   "outputs": [
    {
     "name": "stdout",
     "output_type": "stream",
     "text": [
      "Error occured : invalid literal for int() with base 10: '100%'\n"
     ]
    }
   ],
   "source": [
    "try:\n",
    "    str_to_int = int(data)\n",
    "except Exception as e: \n",
    "    print('Error occured :', e)"
   ]
  },
  {
   "cell_type": "code",
   "execution_count": 17,
   "metadata": {
    "scrolled": true
   },
   "outputs": [
    {
     "name": "stdout",
     "output_type": "stream",
     "text": [
      "Error occured : list index out of range\n"
     ]
    }
   ],
   "source": [
    "try:\n",
    "    print([1, 3, 5, 7, 9][10])\n",
    "except Exception as e: \n",
    "    print('Error occured :', e)"
   ]
  },
  {
   "cell_type": "markdown",
   "metadata": {},
   "source": [
    "<br>\n",
    "\n",
    "#### 특정 에러를 자의적으로 발생시키는 raise"
   ]
  },
  {
   "cell_type": "code",
   "execution_count": 20,
   "metadata": {},
   "outputs": [
    {
     "name": "stdout",
     "output_type": "stream",
     "text": [
      "10000 미만의 수를 입력하세요\n"
     ]
    }
   ],
   "source": [
    "def check_range(num):\n",
    "    if num > 10000:\n",
    "        raise ValueError\n",
    "        \n",
    "try:\n",
    "    check_range(10001)\n",
    "except ValueError:\n",
    "    print('10000 미만의 수를 입력하세요')"
   ]
  },
  {
   "cell_type": "code",
   "execution_count": 21,
   "metadata": {},
   "outputs": [
    {
     "name": "stdout",
     "output_type": "stream",
     "text": [
      "점수는 100점을 초과할 수 없습니다.\n",
      "잘못된 점수가 포함되어있습니다.\n"
     ]
    }
   ],
   "source": [
    "scores = [19, 52, 92, 70, 72, 150, 98, 47]\n",
    "\n",
    "try:\n",
    "    for score in scores:\n",
    "        if score > 100:\n",
    "            print('점수는 100점을 초과할 수 없습니다.')\n",
    "            raise StopIteration # 반복문의 강제 종료\n",
    "except StopIteration:\n",
    "    print('잘못된 점수가 포함되어있습니다.')"
   ]
  },
  {
   "cell_type": "markdown",
   "metadata": {},
   "source": [
    "<br>\n",
    "\n",
    "#### 직접 예외(Error) 만들기"
   ]
  },
  {
   "cell_type": "code",
   "execution_count": 67,
   "metadata": {},
   "outputs": [],
   "source": [
    "class SelfMadeError(Exception):\n",
    "    pass"
   ]
  },
  {
   "cell_type": "code",
   "execution_count": 69,
   "metadata": {},
   "outputs": [
    {
     "name": "stdout",
     "output_type": "stream",
     "text": [
      "점수는 100점을 초과할 수 없습니다.\n",
      "설계자 의도에 따라 종료되었습니다\n"
     ]
    }
   ],
   "source": [
    "scores = [19, 52, 92, 70, 72, 150, 98, 47]\n",
    "\n",
    "try:\n",
    "    for score in scores:\n",
    "        if score > 100:\n",
    "            print('점수는 100점을 초과할 수 없습니다.')\n",
    "            raise SelfMadeError # 반복문의 강제 종료\n",
    "except SelfMadeError:\n",
    "    print('설계자 의도에 따라 종료되었습니다')"
   ]
  },
  {
   "cell_type": "markdown",
   "metadata": {},
   "source": [
    "<br>\n",
    "<br>\n",
    "\n",
    "### 2. 클래스 (상속 포함)"
   ]
  },
  {
   "cell_type": "markdown",
   "metadata": {},
   "source": [
    "<br>\n",
    "\n",
    "#### instance(객체)에 대하여"
   ]
  },
  {
   "cell_type": "code",
   "execution_count": 22,
   "metadata": {},
   "outputs": [
    {
     "data": {
      "text/plain": [
       "True"
      ]
     },
     "execution_count": 22,
     "metadata": {},
     "output_type": "execute_result"
    }
   ],
   "source": [
    "isinstance(10, int)"
   ]
  },
  {
   "cell_type": "code",
   "execution_count": 23,
   "metadata": {},
   "outputs": [],
   "source": [
    "a = [1, 2, 3]\n",
    "b = [1, 2, 3]"
   ]
  },
  {
   "cell_type": "code",
   "execution_count": 24,
   "metadata": {},
   "outputs": [
    {
     "data": {
      "text/plain": [
       "True"
      ]
     },
     "execution_count": 24,
     "metadata": {},
     "output_type": "execute_result"
    }
   ],
   "source": [
    "a == b # 서로 같은 값을 갖고 있음"
   ]
  },
  {
   "cell_type": "code",
   "execution_count": 25,
   "metadata": {},
   "outputs": [
    {
     "data": {
      "text/plain": [
       "False"
      ]
     },
     "execution_count": 25,
     "metadata": {},
     "output_type": "execute_result"
    }
   ],
   "source": [
    "a is b # 값은 같으나 서로 다른 객체(instance)임, 쌍둥이가 서로 다른 사람인 것과 같은 이치"
   ]
  },
  {
   "cell_type": "markdown",
   "metadata": {},
   "source": [
    "<br>\n",
    "\n",
    "#### Class 1 (self, \\_\\_init\\_\\_, \\_\\_str\\_\\_)"
   ]
  },
  {
   "cell_type": "code",
   "execution_count": 38,
   "metadata": {},
   "outputs": [],
   "source": [
    "class Car:\n",
    "    \n",
    "    def create(name, speed=0):\n",
    "        car = Car()\n",
    "        car.name = name\n",
    "        car.speed = speed\n",
    "        return car\n",
    "    \n",
    "    def speed_up(car):\n",
    "        car.speed += 1\n",
    "        print('자동차의 속도가 {}이 되었습니다.'.format(car.speed))\n",
    "        \n",
    "    def speed_down(car):\n",
    "        car.speed -= 1\n",
    "        print('자동차의 속도가 {}이 되었습니다.'.format(car.speed))"
   ]
  },
  {
   "cell_type": "code",
   "execution_count": 39,
   "metadata": {},
   "outputs": [
    {
     "name": "stdout",
     "output_type": "stream",
     "text": [
      "타요\n",
      "0\n",
      "자동차의 속도가 1이 되었습니다.\n",
      "자동차의 속도가 0이 되었습니다.\n"
     ]
    }
   ],
   "source": [
    "car_1 = Car.create('타요', 0)\n",
    "\n",
    "print(car_1.name)\n",
    "print(car_1.speed)\n",
    "\n",
    "Car.speed_up(car_1)\n",
    "Car.speed_down(car_1)"
   ]
  },
  {
   "cell_type": "code",
   "execution_count": 40,
   "metadata": {},
   "outputs": [],
   "source": [
    "class Car:\n",
    "    \n",
    "    def create(name, speed=0):\n",
    "        car = Car()\n",
    "        car.name = name\n",
    "        car.speed = speed\n",
    "        return car\n",
    "    \n",
    "    def speed_up(self):\n",
    "        self.speed += 1\n",
    "        print('자동차의 속도가 {}이 되었습니다.'.format(self.speed))\n",
    "        \n",
    "    def speed_down(self):\n",
    "        self.speed -= 1\n",
    "        print('자동차의 속도가 {}이 되었습니다.'.format(self.speed))"
   ]
  },
  {
   "cell_type": "code",
   "execution_count": 41,
   "metadata": {},
   "outputs": [
    {
     "name": "stdout",
     "output_type": "stream",
     "text": [
      "타요\n",
      "0\n",
      "자동차의 속도가 1이 되었습니다.\n",
      "자동차의 속도가 0이 되었습니다.\n",
      "자동차의 속도가 1이 되었습니다.\n",
      "자동차의 속도가 0이 되었습니다.\n"
     ]
    }
   ],
   "source": [
    "car_1 = Car.create('타요', 0)\n",
    "\n",
    "print(car_1.name)\n",
    "print(car_1.speed)\n",
    "\n",
    "Car.speed_up(car_1)\n",
    "Car.speed_down(car_1)\n",
    "\n",
    "car_1.speed_up()\n",
    "car_1.speed_down()"
   ]
  },
  {
   "cell_type": "code",
   "execution_count": 42,
   "metadata": {},
   "outputs": [],
   "source": [
    "class Car:\n",
    "    \n",
    "#     def create(name, speed=0):\n",
    "#         car = Car()\n",
    "#         car.name = name\n",
    "#         car.speed = speed\n",
    "#         return car\n",
    "    \n",
    "    # 인스턴스를 만들 때 자동으로 실행되는 함수 (생성자, constructor)\n",
    "    def __init__(self, name, speed=0):\n",
    "        self.name = name\n",
    "        self.speed = speed\n",
    "    \n",
    "    def speed_up(self):\n",
    "        self.speed += 1\n",
    "        print('자동차의 속도가 {}이 되었습니다.'.format(self.speed))\n",
    "        \n",
    "    def speed_down(self):\n",
    "        self.speed -= 1\n",
    "        print('자동차의 속도가 {}이 되었습니다.'.format(self.speed))"
   ]
  },
  {
   "cell_type": "code",
   "execution_count": 43,
   "metadata": {},
   "outputs": [
    {
     "name": "stdout",
     "output_type": "stream",
     "text": [
      "타요\n",
      "0\n"
     ]
    }
   ],
   "source": [
    "# car_1 = Car.create('타요', 0)\n",
    "car_1 = Car('타요', 0)\n",
    "\n",
    "print(car_1.name)\n",
    "print(car_1.speed)"
   ]
  },
  {
   "cell_type": "code",
   "execution_count": 44,
   "metadata": {},
   "outputs": [],
   "source": [
    "class Car:\n",
    "    \n",
    "    def __init__(self, name, speed=0):\n",
    "        self.name = name\n",
    "        self.speed = speed\n",
    "    \n",
    "    def speed_up(self):\n",
    "        self.speed += 1\n",
    "        print('자동차의 속도가 {}이 되었습니다.'.format(self.speed))\n",
    "        \n",
    "    def speed_down(self):\n",
    "        self.speed -= 1\n",
    "        print('자동차의 속도가 {}이 되었습니다.'.format(self.speed))\n",
    "        \n",
    "    # 인스턴스 자체를 출력(print) 시 출력될 내용을 지정하는 함수\n",
    "    def __str__(self):\n",
    "        return \"이 인스턴스의 이름은 {}입니다.\".format(self.name)"
   ]
  },
  {
   "cell_type": "code",
   "execution_count": 45,
   "metadata": {},
   "outputs": [
    {
     "name": "stdout",
     "output_type": "stream",
     "text": [
      "이 인스턴스의 이름은 타요입니다.\n"
     ]
    }
   ],
   "source": [
    "car_1 = Car('타요', 0)\n",
    "\n",
    "print(car_1)"
   ]
  },
  {
   "cell_type": "markdown",
   "metadata": {},
   "source": [
    "<br>\n",
    "\n",
    "#### Class 2 (inheritance, override, super() +@)"
   ]
  },
  {
   "cell_type": "code",
   "execution_count": 46,
   "metadata": {},
   "outputs": [],
   "source": [
    "class Car:\n",
    "    \n",
    "    def __init__(self, name, speed=0):\n",
    "        self.name = name\n",
    "        self.speed = speed\n",
    "    \n",
    "    def change_speed(self, value):\n",
    "        self.speed += value\n",
    "        print('자동차의 속도가 {}이 되었습니다.'.format(self.speed))\n",
    "        \n",
    "    def park(self):\n",
    "        self.speed = 0\n",
    "        print('자동차를 주차하였습니다.')\n",
    "\n",
    "\n",
    "class SportsCar:\n",
    "    \n",
    "    def __init__(self, name, speed=0):\n",
    "        self.name = name\n",
    "        self.speed = speed\n",
    "    \n",
    "    def change_speed(self, value):\n",
    "        self.speed += value\n",
    "        print('자동차의 속도가 {}이 되었습니다.'.format(self.speed))\n",
    "        \n",
    "    def super_mode(self):\n",
    "        self.speed = 500\n",
    "        print('슈퍼 모드를 시작합니다. 현재 속도 :', self.speed)"
   ]
  },
  {
   "cell_type": "code",
   "execution_count": 49,
   "metadata": {},
   "outputs": [
    {
     "name": "stdout",
     "output_type": "stream",
     "text": [
      "자동차의 속도가 50이 되었습니다.\n",
      "자동차를 주차하였습니다.\n",
      "자동차의 속도가 50이 되었습니다.\n",
      "슈퍼 모드를 시작합니다. 현재 속도 : 500\n"
     ]
    }
   ],
   "source": [
    "normal_car = Car('타요', 0)\n",
    "normal_car.change_speed(50)\n",
    "normal_car.park()\n",
    "\n",
    "sports_car = SportsCar('맥라렌', 0)\n",
    "sports_car.change_speed(50)\n",
    "sports_car.super_mode()"
   ]
  },
  {
   "cell_type": "code",
   "execution_count": 50,
   "metadata": {},
   "outputs": [],
   "source": [
    "class Car:\n",
    "    \n",
    "    def __init__(self, name, speed=0):\n",
    "        self.name = name\n",
    "        self.speed = speed\n",
    "    \n",
    "    def change_speed(self, value):\n",
    "        self.speed += value\n",
    "        print('자동차의 속도가 {}이 되었습니다.'.format(self.speed))\n",
    "        \n",
    "    def park(self):\n",
    "        self.speed = 0\n",
    "        print('자동차를 주차하였습니다.')\n",
    "\n",
    "\n",
    "class SportsCar(Car): # Car 클래스를 상속받아 해당 클래스 내의 메소드들을 모두 활용할 수 있게 됨\n",
    "    \n",
    "    def super_mode(self):\n",
    "        self.speed = 500\n",
    "        print('슈퍼 모드를 시작합니다. 현재 속도 :', self.speed)"
   ]
  },
  {
   "cell_type": "code",
   "execution_count": 51,
   "metadata": {},
   "outputs": [
    {
     "name": "stdout",
     "output_type": "stream",
     "text": [
      "자동차의 속도가 50이 되었습니다.\n",
      "자동차를 주차하였습니다.\n",
      "슈퍼 모드를 시작합니다. 현재 속도 : 500\n"
     ]
    }
   ],
   "source": [
    "sports_car = SportsCar('맥라렌', 0)\n",
    "sports_car.change_speed(50)\n",
    "sports_car.park()\n",
    "sports_car.super_mode()"
   ]
  },
  {
   "cell_type": "code",
   "execution_count": 52,
   "metadata": {},
   "outputs": [],
   "source": [
    "class Car:\n",
    "    \n",
    "    def __init__(self, name, speed=0):\n",
    "        self.name = name\n",
    "        self.speed = speed\n",
    "    \n",
    "    def change_speed(self, value):\n",
    "        self.speed += value\n",
    "        print('자동차의 속도가 {}이 되었습니다.'.format(self.speed))\n",
    "        \n",
    "    def park(self):\n",
    "        self.speed = 0\n",
    "        print('자동차를 주차하였습니다.')\n",
    "\n",
    "\n",
    "class SportsCar(Car): \n",
    "        \n",
    "    # method override\n",
    "    def park(self):\n",
    "        self.speed = 0\n",
    "        print('자동차를 주차하였습니다. 현재 속도 :', self.speed)\n",
    "    \n",
    "    def super_mode(self):\n",
    "        self.speed = 500\n",
    "        print('슈퍼 모드를 시작합니다. 현재 속도 :', self.speed)"
   ]
  },
  {
   "cell_type": "code",
   "execution_count": 55,
   "metadata": {},
   "outputs": [
    {
     "name": "stdout",
     "output_type": "stream",
     "text": [
      "자동차를 주차하였습니다.\n",
      "자동차를 주차하였습니다. 현재 속도 : 0\n"
     ]
    }
   ],
   "source": [
    "normal_car = Car('타요', 0)\n",
    "normal_car.park()\n",
    "\n",
    "sports_car = SportsCar('맥라렌', 0)\n",
    "sports_car.park()"
   ]
  },
  {
   "cell_type": "code",
   "execution_count": 60,
   "metadata": {},
   "outputs": [],
   "source": [
    "class Car:\n",
    "    \n",
    "    def __init__(self, name, speed):\n",
    "        self.car_name = name\n",
    "        self.car_speed = speed\n",
    "        \n",
    "    def decorate_name(self, deco):\n",
    "        self.car_name = deco + self.car_name + deco\n",
    "    \n",
    "    \n",
    "class SportsCar(Car): \n",
    "        \n",
    "    def __init__(self, name, speed, color):\n",
    "        super().__init__(name, speed) # 자식 클래스의 함수 내에서 부모 클래스의 함수를 호출해 실행\n",
    "        super().decorate_name('★')\n",
    "        self.color = color"
   ]
  },
  {
   "cell_type": "code",
   "execution_count": 61,
   "metadata": {},
   "outputs": [
    {
     "name": "stdout",
     "output_type": "stream",
     "text": [
      "★맥라렌★\n",
      "0\n",
      "Black\n"
     ]
    }
   ],
   "source": [
    "sports_car = SportsCar('맥라렌', 0, 'Black')\n",
    "\n",
    "print(sports_car.car_name)\n",
    "print(sports_car.car_speed)\n",
    "print(sports_car.color)"
   ]
  },
  {
   "cell_type": "code",
   "execution_count": 64,
   "metadata": {},
   "outputs": [],
   "source": [
    "class Car:\n",
    "    \n",
    "    def __init__(self, name, speed=0):\n",
    "        self.name = name\n",
    "        self.speed = speed\n",
    "        \n",
    "    def turn_on(self):\n",
    "        print('시동이 켜졌습니다.')\n",
    "        \n",
    "    def turn_off(self):\n",
    "        print('시동이 꺼졌습니다.')\n",
    "        \n",
    "    def reverse(self):\n",
    "        print('후진을 시작합니다.')\n",
    "    \n",
    "    def change_speed(self, value):\n",
    "        self.speed = value\n",
    "        print('속도가 {}이 되었습니다.'.format(self.speed))\n",
    "    \n",
    "    \n",
    "class SportsCar(Car): \n",
    "        \n",
    "    def __init__(self, name, speed):\n",
    "        super().__init__(name, speed) \n",
    "    \n",
    "    def parking(self):\n",
    "        super().reverse()\n",
    "        super().change_speed(0)\n",
    "        super().turn_off()"
   ]
  },
  {
   "cell_type": "code",
   "execution_count": 65,
   "metadata": {},
   "outputs": [
    {
     "name": "stdout",
     "output_type": "stream",
     "text": [
      "속도가 100이 되었습니다.\n",
      "후진을 시작합니다.\n",
      "속도가 0이 되었습니다.\n",
      "시동이 꺼졌습니다.\n"
     ]
    }
   ],
   "source": [
    "sports_car = SportsCar('맥라렌', 0)\n",
    "\n",
    "sports_car.change_speed(100)\n",
    "sports_car.parking()"
   ]
  },
  {
   "cell_type": "markdown",
   "metadata": {},
   "source": [
    "<br>\n",
    "<br>\n",
    "\n",
    "### +@ (list & dict comprehension)"
   ]
  },
  {
   "cell_type": "code",
   "execution_count": 76,
   "metadata": {},
   "outputs": [
    {
     "name": "stdout",
     "output_type": "stream",
     "text": [
      "[1, 4, 9, 16, 25, 36, 49, 64, 81, 100]\n"
     ]
    }
   ],
   "source": [
    "data = [ i**2 for i in range(1, 11) ]\n",
    "print(data)"
   ]
  },
  {
   "cell_type": "code",
   "execution_count": 77,
   "metadata": {},
   "outputs": [
    {
     "name": "stdout",
     "output_type": "stream",
     "text": [
      "[4, 16, 36, 64, 100]\n"
     ]
    }
   ],
   "source": [
    "data = [ i**2 for i in range(1, 11) if i % 2 == 0 ]\n",
    "print(data)"
   ]
  },
  {
   "cell_type": "code",
   "execution_count": 83,
   "metadata": {},
   "outputs": [
    {
     "name": "stdout",
     "output_type": "stream",
     "text": [
      "[(1, 1), (1, 2), (1, 3), (1, 4), (2, 1), (2, 2), (2, 3), (2, 4), (3, 1), (3, 2), (3, 3), (3, 4)]\n",
      "1 x 1 = 1\n",
      "1 x 2 = 2\n",
      "1 x 3 = 3\n",
      "1 x 4 = 4\n",
      "2 x 1 = 2\n",
      "2 x 2 = 4\n",
      "2 x 3 = 6\n",
      "2 x 4 = 8\n",
      "3 x 1 = 3\n",
      "3 x 2 = 6\n",
      "3 x 3 = 9\n",
      "3 x 4 = 12\n"
     ]
    }
   ],
   "source": [
    "data = [ ( x, y ) for x in range(1, 4) for y in range(1, 5) ] \n",
    "print(data)\n",
    "\n",
    "for x, y in data:\n",
    "    print('{} x {} = {}'.format(x, y, x*y))"
   ]
  },
  {
   "cell_type": "code",
   "execution_count": 73,
   "metadata": {},
   "outputs": [
    {
     "name": "stdout",
     "output_type": "stream",
     "text": [
      "{'1번': '철수', '2번': '영희', '3번': '민수'}\n"
     ]
    }
   ],
   "source": [
    "students = ['철수', '영희', '민수']\n",
    "\n",
    "students_book = { \"{}번\".format(number+1):name for number, name in enumerate(students) }\n",
    "print(students_book)"
   ]
  },
  {
   "cell_type": "code",
   "execution_count": 74,
   "metadata": {},
   "outputs": [
    {
     "name": "stdout",
     "output_type": "stream",
     "text": [
      "{'철수': 70, '영희': 100, '민수': 90}\n"
     ]
    }
   ],
   "source": [
    "students = ['철수', '영희', '민수']\n",
    "scores = [70, 100, 90]\n",
    "\n",
    "score_book = {student:score for student, score in zip(students, scores)}\n",
    "print(score_book)"
   ]
  }
 ],
 "metadata": {
  "kernelspec": {
   "display_name": "Python 3",
   "language": "python",
   "name": "python3"
  },
  "language_info": {
   "codemirror_mode": {
    "name": "ipython",
    "version": 3
   },
   "file_extension": ".py",
   "mimetype": "text/x-python",
   "name": "python",
   "nbconvert_exporter": "python",
   "pygments_lexer": "ipython3",
   "version": "3.7.3"
  }
 },
 "nbformat": 4,
 "nbformat_minor": 2
}
